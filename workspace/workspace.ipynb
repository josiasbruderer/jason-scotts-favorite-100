{
 "cells": [
  {
   "cell_type": "markdown",
   "metadata": {},
   "source": [
    "<h1 class=\"title\">Jason Scott's favorite 100 - data analysis using NLP</h1>\n",
    "<h2 class=\"subtitle\">Mini-Project in the ABC of Computational Text Analysis</h2>\n",
    "<p>Author: <span class=\"author\">Josias Bruderer, Universität Luzern</span></p>\n",
    "<p>Date: <span class=\"date\">14. May 2021</span></p>"
   ]
  },
  {
   "cell_type": "markdown",
   "metadata": {},
   "source": [
    "# Preparations\n",
    "\n",
    "The following lines of code is used for preparing our environment."
   ]
  },
  {
   "cell_type": "code",
   "execution_count": 1,
   "metadata": {},
   "outputs": [],
   "source": [
    "#!/usr/bin/env python3\n",
    "# -*- coding: utf-8 -*-\n",
    "\n",
    "# load the necessary libraries\n",
    "\n",
    "import sys\n",
    "from pathlib import Path\n",
    "\n",
    "# prepare to load project specific libraries\n",
    "module_path = str(Path.cwd() / \"py\")\n",
    "if module_path not in sys.path:\n",
    "    sys.path.append(module_path)\n",
    "\n",
    "# import data_wrangler module\n",
    "from modules import data_wrangler"
   ]
  },
  {
   "cell_type": "markdown",
   "metadata": {},
   "source": [
    "# Data Wrangling\n",
    "\n",
    "In this section the required data is downloaded and preprocessed (f.E. unzipped). The module data_wrangler will be used for this."
   ]
  },
  {
   "cell_type": "code",
   "execution_count": 2,
   "metadata": {},
   "outputs": [],
   "source": [
    "data_url = \"http://archives.textfiles.com/100.zip\"\n",
    "data_dir = sys.path[0] + \"/data/\"\n",
    "tmp_dir = sys.path[0] + \"/.tmp/\"\n",
    "\n",
    "dw = data_wrangler.DataWrangler(tmp_dir, data_dir)\n",
    "\n",
    "dw.process_zip(data_url, \"100\")"
   ]
  }
 ],
 "metadata": {
  "kernelspec": {
   "display_name": "Python 3",
   "language": "python",
   "name": "python3"
  },
  "language_info": {
   "codemirror_mode": {
    "name": "ipython",
    "version": 3
   },
   "file_extension": ".py",
   "mimetype": "text/x-python",
   "name": "python",
   "nbconvert_exporter": "python",
   "pygments_lexer": "ipython3",
   "version": "3.8.5"
  }
 },
 "nbformat": 4,
 "nbformat_minor": 4
}
