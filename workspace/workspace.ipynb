{
 "cells": [
  {
   "cell_type": "markdown",
   "metadata": {},
   "source": [
    "<h1 class=\"title\">Jason Scott's favorite 100 - data analysis using NLP</h1>\n",
    "<h2 class=\"subtitle\">Mini-Project in the ABC of Computational Text Analysis</h2>\n",
    "<p>Author: <span class=\"author\">Josias Bruderer, Universität Luzern</span></p>\n",
    "<p>Date: <span class=\"date\">14. May 2021</span></p>"
   ]
  },
  {
   "cell_type": "markdown",
   "metadata": {},
   "source": [
    "# Preparations\n",
    "\n",
    "The following lines of code is used for preparing our environment."
   ]
  },
  {
   "cell_type": "code",
   "execution_count": 1,
   "metadata": {},
   "outputs": [],
   "source": [
    "#!/usr/bin/env python3\n",
    "# -*- coding: utf-8 -*-\n",
    "\n",
    "# load the necessary libraries\n",
    "\n",
    "import sys\n",
    "from pathlib import Path\n",
    "import textacy\n",
    "import spacy\n",
    "import codecs\n",
    "\n",
    "project_path = Path.cwd().parent\n",
    "\n",
    "# prepare to load project specific libraries\n",
    "module_path = str(project_path / \"py/\")\n",
    "if module_path not in sys.path:\n",
    "    sys.path.append(module_path)\n",
    "\n",
    "# import data_wrangler module\n",
    "from modules import data_wrangler"
   ]
  },
  {
   "cell_type": "markdown",
   "metadata": {},
   "source": [
    "# Data Wrangling\n",
    "\n",
    "In this section the required data is downloaded and preprocessed (f.E. unzipped). The module data_wrangler will be used for this."
   ]
  },
  {
   "cell_type": "code",
   "execution_count": 2,
   "metadata": {},
   "outputs": [],
   "source": [
    "data_url = \"http://archives.textfiles.com/100.zip\"\n",
    "data_name = \"100\"\n",
    "data_dir = str(project_path / \"data/\")\n",
    "tmp_dir = str(project_path / \".tmp/\")\n",
    "\n",
    "dw = data_wrangler.DataWrangler(tmp_dir, data_dir)\n",
    "\n",
    "dw.process_zip(data_url, data_name)"
   ]
  },
  {
   "cell_type": "markdown",
   "metadata": {},
   "source": [
    "# Analisis\n",
    "\n",
    "## Preliminary Clarifications"
   ]
  },
  {
   "cell_type": "code",
   "execution_count": 19,
   "metadata": {},
   "outputs": [],
   "source": [
    "def get_texts(dir_texts):\n",
    "    \"\"\"\n",
    "    Sequentially stream all documents from a given folder,\n",
    "    including metadata.\n",
    "    \"\"\"\n",
    "    p = Path(dir_texts) # set base dir\n",
    "    \n",
    "    # iterate over all documents\n",
    "    for fname in p.glob('**/*'): # ** = all subdirectories\n",
    "             \n",
    "            \n",
    "        \n",
    "        content = codecs.open(fname, 'r', encoding='utf-8', errors='replace').read()\n",
    "\n",
    "        #content = next(textacy.io.text.read_text(fname, encoding=\"utf-8\"))\n",
    "        # join lines as there are hard line-breaks\n",
    "        # content = content.replace('\\n', ' ')\n",
    "        # further modify the text content here if needed\n",
    "\n",
    "        # parse year from filename and set a metadata\n",
    "        # example: 1920_parteiprogramm_d.txt --> year=1920\n",
    "        #try:\n",
    "        #    year = int(fname.name.split('_')[0])\n",
    "        #except ValueError:\n",
    "        #    print('WARNING: Parsing meta data failed:', fname.name)\n",
    "        #    continue\n",
    "\n",
    "        # add more metadata here if needed\n",
    "        metadata = {'name': fname.name, 'length': len(content)}\n",
    "        \n",
    "        # return documents one after another (sequentially)\n",
    "        yield (metadata, content)\n",
    "        \n",
    "texts = get_texts(data_dir + \"/\" + data_name)\n",
    "\n",
    "f = open(\"top100_generated.csv\", \"w+\")\n",
    "\n",
    "for item in texts:\n",
    "    f.write(item[0][\"name\"]+\",\"+str(item[0][\"length\"])+\"\\r\\n\")\n",
    "\n",
    "f.close()"
   ]
  },
  {
   "cell_type": "code",
   "execution_count": null,
   "metadata": {},
   "outputs": [],
   "source": []
  },
  {
   "cell_type": "code",
   "execution_count": null,
   "metadata": {},
   "outputs": [],
   "source": []
  }
 ],
 "metadata": {
  "kernelspec": {
   "display_name": "Python 3",
   "language": "python",
   "name": "python3"
  },
  "language_info": {
   "codemirror_mode": {
    "name": "ipython",
    "version": 3
   },
   "file_extension": ".py",
   "mimetype": "text/x-python",
   "name": "python",
   "nbconvert_exporter": "python",
   "pygments_lexer": "ipython3",
   "version": "3.8.5"
  }
 },
 "nbformat": 4,
 "nbformat_minor": 4
}
